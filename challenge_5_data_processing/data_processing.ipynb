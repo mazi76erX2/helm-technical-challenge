{
 "cells": [
  {
   "cell_type": "code",
   "execution_count": null,
   "metadata": {},
   "outputs": [],
   "source": [
    "import pandas as pd\n",
    "\n",
    "# Pandas\n",
    "# Load the movies dataset\n",
    "movies = pd.read_csv('movies.csv')\n",
    "\n",
    "# Load the ratings dataset\n",
    "ratings = pd.read_csv('ratings.csv')\n",
    "\n",
    "# Load the links dataset\n",
    "links = pd.read_csv('links.csv')\n",
    "\n",
    "# Merge the datasets based on movieId\n",
    "merged_data = pd.merge(movies, ratings, on='movieId')\n",
    "merged_data = pd.merge(merged_data, links, on='movieId')\n",
    "\n",
    "# Display the first few rows of the merged dataset\n",
    "print(merged_data.head())\n"
   ]
  },
  {
   "cell_type": "code",
   "execution_count": null,
   "metadata": {},
   "outputs": [],
   "source": []
  }
 ],
 "metadata": {
  "language_info": {
   "name": "python"
  }
 },
 "nbformat": 4,
 "nbformat_minor": 2
}
